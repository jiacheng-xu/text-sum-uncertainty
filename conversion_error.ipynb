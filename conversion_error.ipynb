{
 "cells": [
  {
   "cell_type": "code",
   "execution_count": null,
   "metadata": {
    "collapsed": true
   },
   "outputs": [],
   "source": [
    "import numpy as np\n",
    "import torch\n",
    "\n",
    "scores = torch.from_numpy(np.random.uniform(low=-100, high=100,size=100000))\n",
    "\n",
    "m = torch.nn.LogSoftmax()\n",
    "output = m(scores).numpy()\n",
    "output = np.asarray(output,dtype=np.float16).astype(np.float32)\n",
    "real_dist = np.exp(output)\n",
    "print(sum(real_dist))"
   ]
  }
 ],
 "metadata": {
  "kernelspec": {
   "display_name": "Python 3",
   "language": "python",
   "name": "python3"
  },
  "language_info": {
   "codemirror_mode": {
    "name": "ipython",
    "version": 2
   },
   "file_extension": ".py",
   "mimetype": "text/x-python",
   "name": "python",
   "nbconvert_exporter": "python",
   "pygments_lexer": "ipython2",
   "version": "2.7.6"
  }
 },
 "nbformat": 4,
 "nbformat_minor": 0
}